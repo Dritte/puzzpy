{
 "metadata": {
  "name": "",
  "signature": "sha256:3f454afdbff603cca458dcc3524e089d04fdd43573e49f68de6d29005b8b0321"
 },
 "nbformat": 3,
 "nbformat_minor": 0,
 "worksheets": [
  {
   "cells": [
    {
     "cell_type": "code",
     "collapsed": false,
     "input": [
      "%load_ext autoreload\n",
      "%autoreload 2"
     ],
     "language": "python",
     "metadata": {},
     "outputs": [],
     "prompt_number": 1
    },
    {
     "cell_type": "code",
     "collapsed": false,
     "input": [
      "from __future__ import print_function, division"
     ],
     "language": "python",
     "metadata": {},
     "outputs": [],
     "prompt_number": 2
    },
    {
     "cell_type": "code",
     "collapsed": false,
     "input": [
      "from puzzpy.wordsets.sowpods import SOWPODS\n",
      "from puzzpy.filter import search\n",
      "from puzzpy.wordplay import subwords, remainders\n",
      "import puzzpy.examples"
     ],
     "language": "python",
     "metadata": {},
     "outputs": [],
     "prompt_number": 45
    },
    {
     "cell_type": "code",
     "collapsed": false,
     "input": [
      "print(sorted(subwords('feeling', contiguous=False)))"
     ],
     "language": "python",
     "metadata": {},
     "outputs": [
      {
       "output_type": "stream",
       "stream": "stdout",
       "text": [
        "['ee', 'eel', 'een', 'el', 'el', 'en', 'en', 'eng', 'eng', 'fe', 'fe', 'fee', 'feeing', 'feel', 'feen', 'feg', 'feg', 'fen', 'fen', 'fig', 'fin', 'fling', 'in', 'li', 'lig', 'lin', 'ling']\n"
       ]
      }
     ],
     "prompt_number": 46
    },
    {
     "cell_type": "code",
     "collapsed": false,
     "input": [
      "print(sorted(remainders('roiling', 'ring')))"
     ],
     "language": "python",
     "metadata": {},
     "outputs": [
      {
       "output_type": "stream",
       "stream": "stdout",
       "text": [
        "['oil', 'oli']\n"
       ]
      }
     ],
     "prompt_number": 47
    },
    {
     "cell_type": "code",
     "collapsed": false,
     "input": [
      "enumerate?"
     ],
     "language": "python",
     "metadata": {},
     "outputs": [],
     "prompt_number": 38
    },
    {
     "cell_type": "code",
     "collapsed": false,
     "input": [],
     "language": "python",
     "metadata": {},
     "outputs": []
    }
   ],
   "metadata": {}
  }
 ]
}
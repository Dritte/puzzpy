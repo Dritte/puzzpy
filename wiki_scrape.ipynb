{
 "metadata": {
  "name": "",
  "signature": "sha256:5b917bd49cbad6ca73d6dafbb026907e88e4ca2a334f30bd29ccf666ef158ccf"
 },
 "nbformat": 3,
 "nbformat_minor": 0,
 "worksheets": [
  {
   "cells": [
    {
     "cell_type": "code",
     "collapsed": false,
     "input": [
      "%load_ext autoreload\n",
      "%autoreload 2"
     ],
     "language": "python",
     "metadata": {},
     "outputs": [],
     "prompt_number": 1
    },
    {
     "cell_type": "code",
     "collapsed": false,
     "input": [
      "from __future__ import print_function, division"
     ],
     "language": "python",
     "metadata": {},
     "outputs": [],
     "prompt_number": 2
    },
    {
     "cell_type": "code",
     "collapsed": false,
     "input": [
      "from puzzpy.wordsets import wiki, dictionaries"
     ],
     "language": "python",
     "metadata": {},
     "outputs": [],
     "prompt_number": 9
    },
    {
     "cell_type": "code",
     "collapsed": false,
     "input": [
      "fish = wiki.category_list('List of common fish names')\n",
      "breakfast = wiki.category_list('List of breakfast foods')\n",
      "sowpods = dictionaries.sowpods()\n",
      "ukacd = dictionaries.ukacd()"
     ],
     "language": "python",
     "metadata": {},
     "outputs": [],
     "prompt_number": 10
    },
    {
     "cell_type": "code",
     "collapsed": false,
     "input": [
      "print(sorted(fish))"
     ],
     "language": "python",
     "metadata": {},
     "outputs": [
      {
       "output_type": "stream",
       "stream": "stdout",
       "text": [
        "['aeneus corydoras', 'african glass catfish', 'african lungfish', 'aholehole', 'airbreathing catfish', 'airsac catfish', 'alaska blackfish', 'albacore', 'alewife', 'alfonsino', 'algae eater', 'alligator gar', 'alligatorfish', 'american sole', 'amphibious fish', 'ampullae of lorenzini', 'amur pike', 'anatomy', 'anchovy', 'anemonefish', 'angelfish', 'angler', 'angler catfish', 'anglerfish', 'anguilliformity', 'antarctic cod', 'antarctic icefish', 'antenna codlet', 'aquarium fish', 'aquatic predation', 'aquatic respiration', 'arapaima', 'archerfish', 'arctic char', 'armored gurnard', 'armored searobin', 'armorhead', 'armorhead catfish', 'armoured catfish', 'arowana', 'arrowtooth eel', 'aruana', 'asian carps', 'asiatic glassfish', 'atka mackerel', 'atlantic cod', 'atlantic herring', 'atlantic salmon', 'atlantic saury', 'atlantic silverside', 'australasian salmon', 'australian grayling', 'australian herring', 'australian lungfish', 'australian prowfish', 'ayu', 'baikal oilfish', 'bait ball', 'bait fish', 'bala shark', 'ballan wrasse', 'bamboo shark', 'banded killifish', 'bandfish', 'bangus', 'banjo', 'banjo catfish', 'barb', 'barbel', 'barbeled dragonfish', 'barbeled houndshark', 'barfish', 'barracuda', 'barracudina', 'barramundi', 'barred danio', 'barreleye', 'basking shark', 'bass', 'basslet', 'bat ray', 'batfish', 'beachsalmon', 'beaked salmon', 'beaked sandfish', 'beardfish', 'beluga sturgeon', 'bengal danio', 'betta', 'bichir', 'bigeye', 'bigeye squaretail', 'bighead carp', 'bigmouth buffalo', 'bigscale', 'bigscale pomfret', 'billfish', 'bitterling', 'black angelfish', 'black bass', 'black dragonfish', 'black mackerel', 'black neon tetra', 'black scabbardfish', 'black scalyfin', 'black sea bass', 'black swallower', 'black tetra', 'black triggerfish', 'blackchin', 'blackfish', 'blacktip reef shark', 'bleak', 'blenny', 'blind fish', 'blind goby', 'blind shark', 'blobfish', 'blowfish', 'blue catfish', 'blue danio', 'blue eye', 'blue gourami', 'blue shark', 'blue triggerfish', 'blue whiting', 'bluefin tuna', 'bluefish', 'bluegill', 'blueredstripe danio', 'bluntnose knifefish', 'bluntnose minnow', 'boarfish', 'bobtail snipe eel', 'bocaccio', 'boga', 'bombay duck', 'bone', 'bonefish', 'bonito', 'bonnetmouth', 'bonytail chub', 'bonytongue', 'bottom feeders', 'bowfin', 'boxfish', 'bramble shark', 'branchial arch', 'bream', 'brill', 'bristlemouth', 'bristlenose catfish', 'broadband dogfish', 'brook lamprey', 'brook trout', 'brotula', 'brown trout', 'bubble nest', 'buffalo fish', 'bull shark', 'bull trout', 'bullhead', 'bullhead shark', 'bumblebee goby', 'burbot', 'buri', 'burma danio', 'burrowing goby', 'butterfly ray', 'butterflyfish', 'california flyingfish', 'california halibut', 'canary rockfish', 'candiru', 'candlefish', 'capacity for pain', 'capelin', 'cardinal tetra', 'cardinalfish', 'caribbean sharpnose puffer', 'carp', 'carpetshark', 'cat shark', 'catalufa', 'category', 'catfish', 'catla', 'cavefish', 'central mudminnow', 'chain pickerel', 'channel bass', 'channel catfish', 'char', 'cherry salmon', 'cherubfish', 'chimaera', 'chinook salmon', 'chromatophore', 'chub', 'chum salmon', 'cichlid', 'cisco', 'clasper', 'cleaner fish', 'cleithrum', 'climbing gourami', 'climbing perch', 'clingfish', 'clown loach', 'clown triggerfish', 'clownfish', 'coarse fish', 'coastal fish', 'cobbler', 'cobia', 'cod', 'cod icefish', 'codlet', 'codling', 'coelacanth', 'coffinfish', 'coho salmon', 'coldwater fish', 'coley', 'collared carpetshark', 'colorado squawfish', 'combfish', 'combtooth blenny', 'common', 'common carp', 'common tunny', 'conger eel', 'convict blenny', 'convict cichlid', 'cookiecutter shark', 'coolie loach', 'coral reef fish', 'cornetfish', 'cow shark', 'cowfish', 'cownose ray', 'crappie', 'creek chub', 'crestfish', 'crevice kelpfish', 'croaker', 'crocodile icefish', 'crocodile shark', 'crucian carp', 'cuckoo wrasse', 'cuskeel', 'cutlassfish', 'cutthroat eel', 'cutthroat trout', 'dab', 'dace', 'daggertooth pike conger', 'damselfish', 'danio', 'darter', 'dartfish', 'dealfish', 'death valley pupfish', 'deep sea eel', 'deep sea fish', 'deep sea smelt', 'deepwater cardinalfish', 'deepwater flathead', 'deepwater stingray', 'delta smelt', 'demersal fish', 'demoiselle', 'denticle herring', 'dermal', 'desert pupfish', 'devario', 'devil ray', 'dhufish', 'diel vertical migration', 'digital library', 'discus', 'diseases and parasites', 'diversity', 'diversity of fish', 'dogfish', 'dogfish shark', 'dogteeth tetra', 'dojo loach', 'dolly varden trout', 'dorab', 'dorado', 'dorsal fin', 'dory', 'dottyback', 'dragon goby', 'dragonet', 'dragonfish', 'driftfish', 'driftwood catfish', 'drum', 'duckbill', 'duckbill eel', 'dusky grouper', 'dwarf gourami', 'dwarf loach', 'eagle ray', 'earthworm eel', 'eel', 'eel cod', 'eelpout', 'eeltail catfish', 'egg case', 'elasmobranch', 'electric catfish', 'electric eel', 'electric fish', 'electric ray', 'electrocommunication', 'electroreception', 'elephant fish', 'elephantnose fish', 'elver', 'ember parrotfish', 'emerald catfish', 'emperor', 'emperor angelfish', 'emperor bream', 'escolar', 'ethnoichthyology', 'eucla cod', 'eulachon', 'european chub', 'european eel', 'european flounder', 'european minnow', 'european perch', 'euryhaline fish', 'evolution', 'false brotula', 'false cat shark', 'false moray', 'false trevally', 'family', 'fangtooth', 'farmed fish', 'fathead sculpin', 'fear of fish', 'featherback', 'filefish', 'filter feeders', 'fin and flipper locomotion', 'finback cat shark', 'fingerfish', 'fins', 'fire bar danio', 'fire goby', 'firefish', 'fish', 'fish age', 'fish anatomy', 'fish as food', 'fish development', 'fish families', 'fish intelligence', 'fish kill', 'fish locomotion', 'fish on stamps', 'fish physiology', 'fish reproduction', 'fishbase', 'fisheries', 'fishing', 'flagblenny', 'flagfin', 'flagfish', 'flagtail', 'flashlight fish', 'flatfish', 'flathead', 'flathead catfish', 'flier', 'flounder', 'flying fish', 'flying gurnard', 'footballfish', 'forage fish', 'forehead brooder', 'foureyed fish', 'french angelfish', 'freshwater eel', 'freshwater fish', 'freshwater hatchetfish', 'freshwater shark', 'frigate mackerel', 'frilled shark', 'frogfish', 'frogmouth catfish', 'galjoen fish', 'game fish', 'ganges shark', 'ganoine', 'gar', 'garden eel', 'garibaldi', 'garpike', 'genetically modified', 'ghost fish', 'ghost flathead', 'ghost knifefish', 'ghost pipefish', 'giant danio', 'giant gourami', 'giant sea bass', 'gibberfish', 'gila trout', 'gill', 'gill raker', 'gill slit', 'gizzard shad', 'glass catfish', 'glass knifefish', 'glassfish', 'glossohyal', 'glowlight danio', 'goatfish', 'goblin shark', 'goby', 'golden shiner', 'golden trout', 'goldeye', 'goldfish', 'gombessa', 'goosefish', 'gopher rockfish', 'gourami', 'grass carp', 'graveldiver', 'gray mullet', 'gray reef shark', 'grayling', 'great white shark', 'green spotted puffer', 'green swordtail', 'greeneye', 'greenling', 'grenadier', 'ground shark', 'groundfish', 'grouper', 'grunion', 'grunt', 'grunt sculpin', 'grunter', 'gudgeon', 'guitarfish', 'gulf menhaden', 'gulper', 'gulper eel', 'gunnel', 'guppy', 'gurnard', 'habitats', 'haddock', 'hagfish', 'hairtail', 'hake', 'halfbeak', 'halfmoon', 'halibut', 'hallucinogenic fish', 'halosaur', 'hamlet', 'hammerhead shark', 'hammerjaw', 'handfish', 'hardhead catfish', 'harelip sucker', 'hatchetfish', 'hawkfish', 'herring', 'herring smelt', 'hillstream loach', 'hog sucker', 'hoki', 'horn shark', 'horsefish', 'houndshark', 'huchen', 'humuhumunukunukuapuaa', 'hydrodynamic reception', 'hyomandibula', 'hypoxia in fish', 'icefish', 'ichthyology', 'ichthyology terms', 'ichthyoplankton', 'ide', 'ilisha', 'inanga', 'inconnu', 'intramembranous ossification', 'jack', 'jack dempsey', 'jackfish', 'jamming avoidance response', 'japanese eel', 'javelin', 'jaw', 'jawfish', 'jellynose fish', 'jewel tetra', 'jewelfish', 'jewfish', 'john dory', 'juvenile fish', 'kahawai', 'kaluga', 'kelp perch', 'kelpfish', 'killifish', 'king of the herrings', 'kingfish', 'kingofthesalmon', 'kissing gourami', 'knifefish', 'knifejaw', 'koi', 'kokanee', 'kokopu', 'kuhli loach', 'labyrinth fish', 'ladyfish', 'lagena', 'lake chub', 'lake trout', 'lake whitefish', 'lampfish', 'lamprey', 'lancetfish', 'lanternfish', 'large fish', 'largeeye bream', 'largemouth bass', 'lateral line', 'leaffish', 'leatherjacket', 'lefteye flounder', 'lemon shark', 'lemon sole', 'lenok', 'leopard danio', 'leydigs organ', 'life history theory', 'lightfish', 'limia', 'lined sole', 'ling', 'ling cod', 'lionfish', 'list of aquarium fish by scientific name', 'list of freshwater aquarium fish species', 'livebearer', 'lizardfish', 'loach', 'loach catfish', 'loach goby', 'loach minnow', 'locomotion', 'longfin', 'longfin escolar', 'longfin smelt', 'longfinned char', 'longfinned pike', 'longfinned sand diver', 'longjaw mudsucker', 'longneck eel', 'longnose chimaera', 'longnose dace', 'longnose lancetfish', 'longnose sucker', 'longwhiskered catfish', 'loosejaw', 'lost river sucker', 'louvar', 'luderick', 'luminous hake', 'lumpsucker', 'lungfish', 'lyretail', 'mackerel', 'mackerel shark', 'madtom', 'mahimahi', 'mahseer', 'mako shark', 'mandarin fish', 'manefish', 'manofwar fish', 'manta ray', 'marblefish', 'marine habitats', 'marine hatchetfish', 'marlin', 'masu salmon', 'mauthner cell', 'medaka', 'medusafish', 'megamouth shark', 'menhaden', 'meristics', 'merluccid hake', 'mexican golden trout', 'midshipman', 'migrating fish', 'milkfish', 'milt', 'minnow', 'minnow of the deep', 'modoc sucker', 'mojarra', 'mola', 'monkeyface prickleback', 'monkfish', 'mooneye', 'moonfish', 'moorish idol', 'mora', 'moray eel', 'more lists', 'morid cod', 'morwong', 'moses sole', 'mosquitofish', 'mouthbrooder', 'mozambique tilapia', 'mrigal', 'mud cat', 'mud catfish', 'mud minnow', 'mudfish', 'mudminnow', 'mudskipper', 'mudsucker', 'mullet', 'mummichog', 'murray cod', 'muskellunge', 'mustache triggerfish', 'mustard eel', 'nakedback knifefish', 'nase', 'needlefish', 'neon tetra', 'new zealand sand diver', 'new zealand smelt', 'nibble fish', 'noodlefish', 'north american freshwater catfish', 'north pacific daggertooth', 'northern anchovy', 'northern clingfish', 'northern pike', 'northern squawfish', 'northern stargazer', 'nurse shark', 'nurseryfish', 'oarfish', 'ocean perch', 'ocean sunfish', 'oceanic whitetip shark', 'oilfish', 'oily fish', 'oldwife', 'olive flounder', 'opah', 'opaleye', 'operculum', 'orange roughy', 'orangestriped triggerfish', 'orbicular batfish', 'orbicular velvetfish', 'oregon chub', 'oscar fish', 'otolith', 'owens pupfish', 'pacific cod', 'pacific hake', 'pacific herring', 'pacific lamprey', 'pacific salmon', 'pacific saury', 'pacific trout', 'pacific viperfish', 'paddlefish', 'paedophagy', 'pancake batfish', 'panga', 'papilla', 'papillare', 'paradise fish', 'parore', 'parrotfish', 'passive electrolocation', 'peacock flounder', 'pearl danio', 'pearl perch', 'pearleye', 'pearlfish', 'pelagic cod', 'pelagic fish', 'pelican eel', 'pencil catfish', 'pencilfish', 'peppered corydoras', 'perch', 'peters elephantnose fish', 'pharyngeal arch', 'pharyngeal jaw', 'pharyngeal slit', 'pharyngeal teeth', 'photophore', 'physiology', 'physoclisti', 'physostome', 'pickerel', 'pigfish', 'pike', 'pike conger', 'pike eel', 'pikeblenny', 'pikeperch', 'pilchard', 'pilot fish', 'pineapplefish', 'pineconefish', 'pink salmon', 'pipefish', 'piranha', 'pirarucu', 'pirate perch', 'plaice', 'platy', 'platyfish', 'pleco', 'plownose chimaera', 'pntano', 'poacher', 'pollock', 'pollyfish', 'polyandry in fish', 'pomfret', 'pompano', 'pompano dolphinfish', 'ponyfish', 'porbeagle shark', 'porcupinefish', 'porgy', 'port jackson shark', 'portal', 'powen', 'predatory fish', 'pregnancy', 'prehistoric fish', 'prickleback', 'pricklefish', 'prickly shark', 'pristella maxillaris', 'prowfish', 'pseudobranch', 'pufferfish', 'pumpkinseed', 'pupfish', 'pygmy sunfish', 'queen danio', 'queen parrotfish', 'queen triggerfish', 'quillback', 'quillfish', 'rabbitfish', 'raccoon butterfly fish', 'ragfish', 'rainbow trout', 'rainbowfish', 'rasbora', 'ratfish', 'rattail', 'ray', 'rays', 'razorback sucker', 'razorfish', 'red salmon', 'red snapper', 'red velvetfish', 'redfin perch', 'redfish', 'redlip blenny', 'redmouth whalefish', 'redtooth triggerfish', 'reedfish', 'reef triggerfish', 'remora', 'reproduction', 'requiem shark', 'ribbon eel', 'ribbon sawtail fish', 'ribbonfish', 'rice eel', 'ricefish', 'ridgehead', 'riffle dace', 'righteye flounder', 'river loach', 'river shark', 'river stingray', 'rivuline', 'roach', 'roanoke bass', 'robotuna', 'rock bass', 'rock beauty', 'rock cod', 'rocket danio', 'rockfish', 'rockweed gunnel', 'roe', 'rohu', 'ronquil', 'roosterfish', 'ropefish', 'rough fish', 'rough scad', 'rough sculpin', 'roughy', 'round herring', 'round stingray', 'round whitefish', 'roundhead', 'rudd', 'rudderfish', 'ruffe', 'russian sturgeon', 'sabertooth', 'sabertooth fish', 'sabertoothed blenny', 'sablefish', 'sacramento blackfish', 'sacramento splittail', 'sailfin silverside', 'sailfish', 'salamanderfish', 'salmon', 'salmon run', 'salmon shark', 'sand dab', 'sand diver', 'sand eel', 'sand goby', 'sand knifefish', 'sand lance', 'sand stargazer', 'sand tiger', 'sand tilefish', 'sandbar shark', 'sandburrower', 'sandfish', 'sandperch', 'sarcastic fringehead', 'sardine', 'sardine run', 'sargassum fish', 'sauger', 'saury', 'saw shark', 'sawfish', 'sawtooth eel', 'sbalo', 'scabbard fish', 'scale eaters', 'scales', 'scaly dragonfish', 'scat', 'schooling fish', 'schreckstoff', 'scissortail rasbora', 'scorpionfish', 'sculpin', 'scup', 'sea bass', 'sea bream', 'sea catfish', 'sea chub', 'sea devil', 'sea dragon', 'sea lamprey', 'sea raven', 'sea snail', 'sea toad', 'seahorse', 'seamoth', 'searobin', 'sensory systems in fish', 'sensorysystems', 'sequential hermaphroditism', 'sergeant major', 'sevan trout', 'shad', 'shark', 'shark cartilage', 'shark teeth', 'sharks', 'sharksucker', 'sheatfish', 'sheepshead', 'sheepshead minnow', 'shiner', 'shortnose sucker', 'shovelnose sturgeon', 'shrimpfish', 'siamese fighting fish', 'sillago', 'silver carp', 'silver dollar', 'silver hake', 'silverbelly ctenopoma', 'silverside', 'silvertip tetra', 'sind danio', 'sixgill shark', 'skate', 'skilfish', 'skipjack tuna', 'sleep in fish', 'sleeper', 'sleeper shark', 'slender snipe eel', 'slickhead', 'slimehead', 'slimy mackerel', 'slimy sculpin', 'slipmouth', 'smalleye squaretail', 'smalltooth sawfish', 'smelt', 'smeltwhiting', 'smooth dogfish', 'snailfish', 'snake eel', 'snake mackerel', 'snakehead', 'snapper', 'snipe eel', 'snipefish', 'snoek', 'snook', 'sockeye salmon', 'soldierfish', 'sole', 'south american darter', 'south american lungfish', 'southern dolly varden', 'southern flounder', 'southern sandfish', 'spadefish', 'spaghetti eel', 'spanish mackerel', 'spawning', 'spawning triggers', 'spearfish', 'species', 'speckled trout', 'spiderfish', 'spikefish', 'spinefoot', 'spiny basslet', 'spiny dogfish', 'spiny eel', 'spinyfin', 'spiral valve', 'splitfin', 'spookfish', 'spotted climbing perch', 'spotted danio', 'sprat', 'springfish', 'squarehead catfish', 'squaretail', 'squawfish', 'squirrelfish', 'staghorn sculpin', 'stargazer', 'starry flounder', 'steelhead', 'stickleback', 'stingfish', 'stingray', 'stonecat', 'stonefish', 'stream catfish', 'striped bass', 'striped burrfish', 'sturgeon', 'sucker', 'suckermouth', 'summer flounder', 'sundaland noodlefish', 'sunfish mola mola', 'sunfish opah', 'surf sardine', 'surface wave detection', 'surfperch', 'surgeonfish', 'swallower', 'swampeel', 'swampfish', 'sweeper', 'swim bladder', 'swordfish', 'swordtail', 't', 'tadpole cod', 'tadpole fish', 'tailor', 'taimen', 'tang', 'tapetail', 'tarpon', 'telescopefish', 'temperate bass', 'temperate oceanbass', 'temperate perch', 'tench', 'tenpounder', 'tenuis', 'tetra', 'thornfish', 'thorny catfish', 'threadfin', 'threadfin bream', 'threadtail', 'threatened rays', 'threatened sharks', 'three spot gourami', 'threespine stickleback', 'threetoothed puffer', 'thresher shark', 'tidewater goby', 'tiger barb', 'tiger shark', 'tiger shovelnose catfish', 'tigerperch', 'tilapia', 'tilefish', 'titan triggerfish', 'toadfish', 'tommy ruff', 'tompot blenny', 'tonguefish', 'tope', 'topminnow', 'torpedo', 'torrent catfish', 'torrent fish', 'tradeoffs for locomotion in air and water', 'trahira', 'treefish', 'trevally', 'triggerfish', 'triplefin blenny', 'triplespine', 'tripletail', 'tripod fish', 'tropical fish', 'trout', 'trout cod', 'troutperch', 'trumpeter', 'trumpetfish', 'trunkfish', 'tubeblenny', 'tubeeye', 'tubeshoulder', 'tubesnout', 'tui chub', 'tuna', 'turbot', 'uaru', 'undulatory locomotion', 'unicorn fish', 'upsidedown catfish', 'v', 'velvet belly lanternshark', 'velvet catfish', 'velvetfish', 'vendace', 'venomous fish', 'vimba', 'viperfish', 'vision', 'wahoo', 'walking catfish', 'walking fish', 'wallago', 'walleye', 'walleye pollock', 'walu', 'warmouth', 'warty angler', 'waryfish', 'wasp fish', 'weasel shark', 'weatherfish', 'weberian apparatus', 'weever', 'weeverfish', 'weird fish', 'wels catfish', 'whale catfish', 'whale shark', 'whalefish', 'whiff', 'whiptail gulper', 'white croaker', 'white marlin', 'white shark', 'whitebait', 'whitefish', 'whitetip reef shark', 'whiting', 'wikiproject', 'wild fish', 'wobbegong', 'wolfeel', 'wolffish', 'wolfherring', 'worm eel', 'wormfish', 'wrasse', 'wrymouth', 'yellow bass', 'yellow jack', 'yellow moray', 'yellow perch', 'yellow tang', 'yellow weaver', 'yellowandblack triplefin', 'yellowbanded perch', 'yellowedged moray', 'yelloweye mullet', 'yellowfin croaker', 'yellowfin cutthroat trout', 'yellowfin grouper', 'yellowfin pike', 'yellowfin surgeonfish', 'yellowfin tuna', 'yellowhead jawfish', 'yellowmargin triggerfish', 'yellowtail', 'yellowtail amberjack', 'yellowtail barracuda', 'yellowtail clownfish', 'yellowtail horse mackerel', 'yellowtail kingfish', 'yellowtail snapper', 'zander', 'zebra bullhead shark', 'zebra danio', 'zebra lionfish', 'zebra loach', 'zebra oto', 'zebra pleco', 'zebra shark', 'zebra tilapia', 'zebra turkeyfish', 'zebrafish', 'ziege', 'zingel']\n"
       ]
      }
     ],
     "prompt_number": 12
    },
    {
     "cell_type": "code",
     "collapsed": false,
     "input": [
      "print(sorted([word for word in sowpods if word[1:6] in fish]))"
     ],
     "language": "python",
     "metadata": {},
     "outputs": [
      {
       "output_type": "stream",
       "stream": "stdout",
       "text": [
        "['abettal', 'abettals', 'adorabilities', 'adorability', 'adorable', 'adorableness', 'adorablenesses', 'adorably', 'agar', 'aide', 'bide', 'bling', 'bray', 'broach', 'broached', 'broacher', 'broachers', 'broaches', 'broaching', 'cide', 'cling', 'cray', 'delver', 'delvers', 'dray', 'ebrillade', 'ebrillades', 'ecod', 'eide', 'feel', 'fling', 'fray', 'gray', 'gruffed', 'gruffer', 'gruffest', 'heel', 'hide', 'jeel', 'keel', 'nide', 'peel', 'pling', 'pray', 'reel', 'ride', 'scarp', 'seel', 'shake', 'side', 'sling', 'spike', 'stang', 'stench', 'stenched', 'stenches', 'stenchful', 'stenchier', 'stenchiest', 'stenching', 'stenchy', 'stope', 'strout', 'strouted', 'strouting', 'strouts', 'teel', 'tide', 'tray', 'truffe', 'truffes', 'velveret', 'velverets', 'vide', 'weel', 'wide']\n"
       ]
      }
     ],
     "prompt_number": 57
    },
    {
     "cell_type": "code",
     "collapsed": false,
     "input": [],
     "language": "python",
     "metadata": {},
     "outputs": []
    }
   ],
   "metadata": {}
  }
 ]
}
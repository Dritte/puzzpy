{
 "metadata": {
  "name": "",
  "signature": "sha256:4cd598483d852a7d7343e42d99f78e38e955fafb2ca8e0162361da097cf95e93"
 },
 "nbformat": 3,
 "nbformat_minor": 0,
 "worksheets": [
  {
   "cells": [
    {
     "cell_type": "code",
     "collapsed": false,
     "input": [
      "%load_ext autoreload\n",
      "%autoreload 2"
     ],
     "language": "python",
     "metadata": {},
     "outputs": [],
     "prompt_number": 1
    },
    {
     "cell_type": "code",
     "collapsed": false,
     "input": [
      "from __future__ import print_function, division"
     ],
     "language": "python",
     "metadata": {},
     "outputs": [],
     "prompt_number": 2
    },
    {
     "cell_type": "code",
     "collapsed": false,
     "input": [
      "from puzzpy.wordsets.sowpods import SOWPODS\n",
      "from puzzpy.filter import search\n",
      "from puzzpy.wordplay import subwords, remainder\n",
      "import puzzpy.examples"
     ],
     "language": "python",
     "metadata": {},
     "outputs": [],
     "prompt_number": 35
    },
    {
     "cell_type": "code",
     "collapsed": false,
     "input": [
      "print(sorted(subwords('feeling', contiguous=False)))"
     ],
     "language": "python",
     "metadata": {},
     "outputs": [
      {
       "output_type": "stream",
       "stream": "stdout",
       "text": [
        "['ee', 'eel', 'een', 'el', 'el', 'en', 'en', 'eng', 'eng', 'fe', 'fe', 'fee', 'feeing', 'feel', 'feen', 'feg', 'feg', 'fen', 'fen', 'fig', 'fin', 'fling', 'in', 'li', 'lig', 'lin', 'ling']\n"
       ]
      }
     ],
     "prompt_number": 36
    },
    {
     "cell_type": "code",
     "collapsed": false,
     "input": [
      "print(sorted(remainder('roiling', 'ring')))"
     ],
     "language": "python",
     "metadata": {},
     "outputs": [
      {
       "output_type": "stream",
       "stream": "stdout",
       "text": [
        "[0, 2, 5, 6]\n",
        "[0, 4, 5, 6]\n",
        "['oil', 'oli']\n"
       ]
      }
     ],
     "prompt_number": 37
    },
    {
     "cell_type": "code",
     "collapsed": false,
     "input": [
      "enumerate?"
     ],
     "language": "python",
     "metadata": {},
     "outputs": [],
     "prompt_number": 38
    },
    {
     "cell_type": "code",
     "collapsed": false,
     "input": [],
     "language": "python",
     "metadata": {},
     "outputs": []
    }
   ],
   "metadata": {}
  }
 ]
}